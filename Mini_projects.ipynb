{
  "cells": [
    {
      "cell_type": "markdown",
      "metadata": {
        "id": "view-in-github",
        "colab_type": "text"
      },
      "source": [
        "<a href=\"https://colab.research.google.com/github/CamilaMoraesBarbosa/RandomNumberPig/blob/main/Mini_projects.ipynb\" target=\"_parent\"><img src=\"https://colab.research.google.com/assets/colab-badge.svg\" alt=\"Open In Colab\"/></a>"
      ]
    },
    {
      "cell_type": "markdown",
      "source": [
        "Mini-project #1: PIG\n",
        "\n"
      ],
      "metadata": {
        "id": "FhwCeJ2hcX0T"
      }
    },
    {
      "cell_type": "code",
      "execution_count": null,
      "metadata": {
        "id": "x8gWwYnZeItP"
      },
      "outputs": [],
      "source": [
        "import random"
      ]
    },
    {
      "cell_type": "code",
      "execution_count": null,
      "metadata": {
        "id": "O1_8qHOEfn-g"
      },
      "outputs": [],
      "source": [
        "def roll():\n",
        "  min_value = 1\n",
        "  max_value = 6\n",
        "  roll = random.randint(min_value, max_value)\n",
        "\n",
        "  return roll"
      ]
    },
    {
      "cell_type": "code",
      "execution_count": null,
      "metadata": {
        "colab": {
          "background_save": true,
          "base_uri": "https://localhost:8080/"
        },
        "id": "k0wKYo6ff2mZ",
        "outputId": "d5e72260-9365-4701-a0a3-29ca9f003691"
      },
      "outputs": [
        {
          "name": "stdout",
          "output_type": "stream",
          "text": [
            "\n",
            "Player number 1 turn has just started!\n",
            "\n",
            "you rolled a 4\n",
            "Your score is 4\n",
            "you rolled a 3\n",
            "Your score is 7\n",
            "you rolled a 3\n",
            "Your score is 10\n",
            "you rolled a 1! Turn done!\n",
            "Your total score is 0\n",
            "\n",
            "Player number 2 turn has just started!\n",
            "\n"
          ]
        }
      ],
      "source": [
        "while True:\n",
        "  players = input(\"Enter the number of players (2-4): \")\n",
        "  if players.isdigit():\n",
        "    players = int(players)\n",
        "    if 2 <= players <= 4:\n",
        "      break\n",
        "    else:\n",
        "      print(\"Must be between 2 and 4 players.\")\n",
        "  else:\n",
        "    print(\"Invalid, try again.\")\n",
        "\n",
        "max_score = 50\n",
        "player_scores = [0 for _ in  range(players)]\n",
        "\n",
        "while max(player_scores) < max_score:\n",
        "\n",
        "  for player_idx in range(players):\n",
        "    print(\"\\nPlayer number\", player_idx + 1, \"turn has just started!\")\n",
        "    print(\"Your total score is:\", player_scores[player_idx], \"\\n\")\n",
        "    current_score = 0\n",
        "\n",
        "    while True:\n",
        "      should_roll = input(\"Would you like to roll (y)? \")\n",
        "      if should_roll.lower() != \"y\":\n",
        "        break\n",
        "\n",
        "      value = roll()\n",
        "      if value == 1:\n",
        "        print(\"you rolled a 1! Turn done!\")\n",
        "        current_score = 0\n",
        "        break\n",
        "      else:\n",
        "        current_score += value\n",
        "        print(\"you rolled a\", value)\n",
        "\n",
        "      print(\"Your score is\", current_score)\n",
        "\n",
        "    player_scores[player_idx] += current_score\n",
        "    print(\"Your total score is\", player_scores[player_idx])\n",
        "\n",
        "max_score = max(player_scores)\n",
        "winning_idx = player_scores.index(max_score)\n",
        "print(\"Player number\", winning_idx + 1, \"is the winner with a score of\", max_score)"
      ]
    },
    {
      "cell_type": "markdown",
      "source": [
        "Mini-project #2: MadLibs"
      ],
      "metadata": {
        "id": "J8WTbazpcg-Q"
      }
    },
    {
      "cell_type": "code",
      "source": [
        "# prompt: MadLibs generator\n",
        "\n",
        "import random\n",
        "\n",
        "def mad_libs():\n",
        "    \"\"\"Generates a Mad Libs story.\"\"\"\n",
        "\n",
        "    # Define parts of speech needed for the story\n",
        "    nouns = [\"cat\", \"dog\", \"house\", \"car\", \"tree\", \"book\", \"computer\", \"phone\"]\n",
        "    verbs = [\"ran\", \"jumped\", \"ate\", \"slept\", \"played\", \"read\", \"wrote\", \"drove\"]\n",
        "    adjectives = [\"happy\", \"sad\", \"angry\", \"funny\", \"scary\", \"big\", \"small\", \"loud\"]\n",
        "    adverbs = [\"quickly\", \"slowly\", \"loudly\", \"quietly\", \"happily\", \"sadly\"]\n",
        "\n",
        "    # Create a template for the story\n",
        "    story_template = \"The {} {} {} {} the {} {}.\"\n",
        "\n",
        "    # Get user input for each part of speech\n",
        "    noun1 = input(\"Enter a noun: \")\n",
        "    verb = input(\"Enter a verb: \")\n",
        "    adjective = input(\"Enter an adjective: \")\n",
        "    adverb = input(\"Enter an adverb: \")\n",
        "    noun2 = input(\"Enter another noun: \")\n",
        "    adjective2 = input(\"Enter another adjective: \")\n",
        "\n",
        "    # Fill in the blanks in the story template\n",
        "    story = story_template.format(adjective, noun1, verb, adverb, noun2, adjective2)\n",
        "\n",
        "    # Print the completed story\n",
        "    print(\"\\nHere's your Mad Libs story:\")\n",
        "    print(story)\n",
        "\n",
        "if __name__ == \"__main__\":\n",
        "    mad_libs()"
      ],
      "metadata": {
        "id": "5Bo5LyTrcgsY"
      },
      "execution_count": null,
      "outputs": []
    },
    {
      "cell_type": "markdown",
      "source": [
        "Mini-project #3: Timed Math Challenge"
      ],
      "metadata": {
        "id": "th1ci9UOcrn8"
      }
    },
    {
      "cell_type": "code",
      "source": [
        "from typing import AnyStr\n",
        "import random\n",
        "import time\n",
        "\n",
        "OPERATORS = [\"+\", \"-\", \"/\", \"*\"]\n",
        "MAX_OPERAND = 12\n",
        "MIN_OPERAND = 3\n",
        "TOTAL_PROBLEMS = 10\n",
        "\n",
        "def generate_problem():\n",
        "  left = random.randint(MIN_OPERAND, MAX_OPERAND)\n",
        "  right = random.randint(MIN_OPERAND, MAX_OPERAND)\n",
        "  operator = random.choice(OPERATORS)\n",
        "\n",
        "  expr = str(left) + \" \" + operator + \" \" + str(right)\n",
        "  answer = eval(expr)\n",
        "  return expr, answer\n",
        "\n",
        "wrong = 0\n",
        "input(\"Press ENTER to start!\")\n",
        "print(\"---------------------\")\n",
        "\n",
        "start_time = time.time()\n",
        "\n",
        "for i in range(TOTAL_PROBLEMS):\n",
        "  expr, answer = generate_problem()\n",
        "  while True:\n",
        "    guess = input(\"Problem #\" + str(i + 1) + \": \" + expr + \" = \")\n",
        "    if guess == str(answer):\n",
        "      break\n",
        "    wrong += 1\n",
        "\n",
        "end_time = time.time()\n",
        "total_time = round(end_time - start_time, 2)\n",
        "print(\"---------------------\")\n",
        "print(\"Nice job! You finished in\", total_time, \"seconds!\")\n",
        "print(\"Total wrong guesses:\", wrong)"
      ],
      "metadata": {
        "colab": {
          "base_uri": "https://localhost:8080/"
        },
        "id": "IXDudz0dcyyK",
        "outputId": "9b0b282a-5522-473c-f577-3309b748d961"
      },
      "execution_count": null,
      "outputs": [
        {
          "output_type": "stream",
          "name": "stdout",
          "text": [
            "Press ENTER to start!\n",
            "---------------------\n",
            "Problem #1: 10 / 5 = 2\n",
            "Problem #1: 10 / 5 = 2\n",
            "Problem #1: 10 / 5 = 2.0\n",
            "Problem #2: 8 + 6 = 14\n",
            "Problem #3: 10 - 9 = 1\n",
            "Problem #4: 12 + 9 = 21\n",
            "Problem #5: 12 - 10 = 2\n",
            "Problem #6: 5 + 12 = 17\n",
            "Problem #7: 8 * 4 = 32\n",
            "Problem #8: 3 / 10 = 0.3\n",
            "Problem #9: 7 * 11 = 77\n",
            "Problem #10: 6 / 6 = 1\n",
            "Problem #10: 6 / 6 = 1.0\n",
            "---------------------\n",
            "Nice job! You finished in 49.35 seconds!\n",
            "Total wrong guesses: 3\n"
          ]
        }
      ]
    },
    {
      "cell_type": "markdown",
      "source": [
        "Calculadora de IMC"
      ],
      "metadata": {
        "id": "5qusFWo680aJ"
      }
    },
    {
      "cell_type": "code",
      "source": [
        "#IMC = peso / (altura x altura)\n",
        "\n",
        "Peso = float(input ('q=u peso? '))\n",
        "Altura = float(input ('q=u altura? '))\n",
        "\n",
        "IMC = Peso / (Altura * Altura)"
      ],
      "metadata": {
        "colab": {
          "base_uri": "https://localhost:8080/"
        },
        "id": "DMdZH5BK9GfI",
        "outputId": "c655bf47-a5c7-4118-a729-85f8a96ec3aa"
      },
      "execution_count": null,
      "outputs": [
        {
          "name": "stdout",
          "output_type": "stream",
          "text": [
            "q=u peso? 75\n",
            "q=u altura? 1.75\n"
          ]
        }
      ]
    },
    {
      "cell_type": "code",
      "source": [
        "print(IMC)"
      ],
      "metadata": {
        "colab": {
          "base_uri": "https://localhost:8080/"
        },
        "id": "_jKeJBUX9Wf7",
        "outputId": "cca28022-5711-4c73-f2f9-053c50129fa1"
      },
      "execution_count": null,
      "outputs": [
        {
          "output_type": "stream",
          "name": "stdout",
          "text": [
            "24.489795918367346\n"
          ]
        }
      ]
    },
    {
      "cell_type": "markdown",
      "source": [
        "Calculadora de média estudantil"
      ],
      "metadata": {
        "id": "8mogmo5-9bQl"
      }
    },
    {
      "cell_type": "code",
      "source": [
        "nota_portugues = float(input('Digite a nota de portugues: '))\n",
        "nota_matematica = float(input('Digite a nota de matematica: '))\n",
        "nota_historia = float(input('Digite a nota de historia: '))\n",
        "nota_biologia = float(input('Digite a nota de biologia: '))\n",
        "\n",
        "media = (nota_portugues+nota_matematica+nota_historia+nota_biologia)/4\n",
        "\n",
        "print(media)"
      ],
      "metadata": {
        "colab": {
          "base_uri": "https://localhost:8080/"
        },
        "id": "kpsa-GOl9ZxC",
        "outputId": "ea6e9ba6-d43e-4db9-f31f-82a2da2f7065"
      },
      "execution_count": null,
      "outputs": [
        {
          "output_type": "stream",
          "name": "stdout",
          "text": [
            "Digite a nota de portugues: 7\n",
            "Digite a nota de matematica: 5.6\n",
            "Digite a nota de historia: 9.8\n",
            "Digite a nota de biologia: 10\n",
            "8.1\n"
          ]
        }
      ]
    },
    {
      "cell_type": "markdown",
      "source": [
        "Considere as variáveis A=7.0, B=5.1 e C=3.8, que são as três notas de um aluno. A seguir, calcule a média do aluno, sabendo que a nota A tem peso 2, a nota B tem peso 3 e a nota C tem peso 5.\n",
        "\n",
        "Considere que cada nota pode ir de 0 até 10.0, sempre com uma casa decimal."
      ],
      "metadata": {
        "id": "UtoZXp2E-Lzm"
      }
    },
    {
      "cell_type": "code",
      "source": [
        "A = 7.0\n",
        "B = 5.1\n",
        "C = 3.8\n",
        "\n",
        "media = (A * 2 + B * 3 + C * 5) / (2 + 3 + 5)\n",
        "\n",
        "print(\"MEDIA =\", media)\n"
      ],
      "metadata": {
        "colab": {
          "base_uri": "https://localhost:8080/"
        },
        "id": "7NlB5H3--LXV",
        "outputId": "6d8d76cf-8a7c-4d6b-bbe7-8d4fa5aab6c4"
      },
      "execution_count": null,
      "outputs": [
        {
          "output_type": "stream",
          "name": "stdout",
          "text": [
            "MEDIA = 4.83\n"
          ]
        }
      ]
    },
    {
      "cell_type": "code",
      "source": [
        "# A fórmula para calcular a área de uma circunferência é: área = π . raio * raio (pi vezes raio ao quadrado). Considerando para este problema que π = 3.14159:\n",
        "# Efetue o cálculo da área, elevando o valor de raio ao quadrado e multiplicando por π.\n",
        "# Considere o raio como sendo 10\n",
        "# Apresentar a mensagem \"A=\" seguido pelo valor da variável area. Lembre-se de criar  as variáveis area e raio.\n",
        "\n",
        "raio = 10\n",
        "pi = 3.14159\n",
        "area = float(pi * (raio * raio))\n",
        "print(\"A= \", area)"
      ],
      "metadata": {
        "colab": {
          "base_uri": "https://localhost:8080/"
        },
        "id": "5z56nXmt-34c",
        "outputId": "4aadb3ad-ab32-483f-b889-fb769b05240b"
      },
      "execution_count": null,
      "outputs": [
        {
          "output_type": "stream",
          "name": "stdout",
          "text": [
            "A=  314.159\n"
          ]
        }
      ]
    }
  ],
  "metadata": {
    "colab": {
      "provenance": [],
      "authorship_tag": "ABX9TyNvdID+pJgOs40nBWQEsYng",
      "include_colab_link": true
    },
    "kernelspec": {
      "display_name": "Python 3",
      "name": "python3"
    },
    "language_info": {
      "name": "python"
    }
  },
  "nbformat": 4,
  "nbformat_minor": 0
}